{
 "cells": [
  {
   "cell_type": "markdown",
   "metadata": {},
   "source": [
    "## Data"
   ]
  },
  {
   "cell_type": "markdown",
   "metadata": {},
   "source": [
    "We will need geo-locational data about the neighborhoods in borough. Those data included neighborhoods’ name, latitude and longitude. If we know neighborhood names in the borough, we can use geopy library to get the latitude and longitude values of neighborhood. And we can use Folium to visualize those neighborhoods on map.\n",
    "\n",
    "We will need venues data in neighborhoods. If we have the neighborhood name, latitude and longitude, we can use Foursquare to get venues data in the neighborhood in certain distance. The venues data included venue name, location, latitude, longitude, distance and postalCode."
   ]
  }
 ],
 "metadata": {
  "kernelspec": {
   "display_name": "Python 3",
   "language": "python",
   "name": "python3"
  },
  "language_info": {
   "codemirror_mode": {
    "name": "ipython",
    "version": 3
   },
   "file_extension": ".py",
   "mimetype": "text/x-python",
   "name": "python",
   "nbconvert_exporter": "python",
   "pygments_lexer": "ipython3",
   "version": "3.6.8"
  }
 },
 "nbformat": 4,
 "nbformat_minor": 2
}
