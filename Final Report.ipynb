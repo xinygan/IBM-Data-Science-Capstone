{
 "cells": [
  {
   "cell_type": "markdown",
   "metadata": {},
   "source": [
    "## Project - Moving Neighborhood Recommondaing System "
   ]
  },
  {
   "cell_type": "markdown",
   "metadata": {},
   "source": [
    "### 1. Introduction"
   ]
  },
  {
   "cell_type": "markdown",
   "metadata": {},
   "source": [
    "When you buy a house, you aren’t just buying a house. In a way, you’re buying a neighborhood.\n",
    "\n",
    "This is a resident who is looking for houses or apartments in the boroughs of Toronto. This renter wants to find similar neighborhoods like the old one. This neighborhood may contain many places such as Grocery Store, Bank, Park, Shopping Mall, Restaurant, Pharmacy, Gym and School. \n",
    "\n",
    "People have various need for neighborhood. A single man may prefer gym or bar. A housewife may consider school and grocery. When a resident moving, he may want to move to a neighborhood most like his old one. \n",
    "\n",
    "This resident can assess new neighborhoods based on old neighborhood and find those most close options to make final decision.\n",
    "\n"
   ]
  },
  {
   "cell_type": "markdown",
   "metadata": {},
   "source": [
    "### 2. Data"
   ]
  },
  {
   "cell_type": "markdown",
   "metadata": {},
   "source": [
    "We will need geo-locational data about the neighborhoods in borough. Those data included neighborhoods’ name, latitude and longitude. If we know neighborhood names in the borough, we can use geopy library to get the latitude and longitude values of neighborhood. And we can use Folium to visualize those neighborhoods on map.\n",
    "\n",
    "We will need venues data in neighborhoods. If we have the neighborhood name, latitude and longitude, we can use Foursquare to get venues data in the neighborhood in certain distance. The venues data included venue name, location, latitude, longitude, distance and PostalCode.\n"
   ]
  },
  {
   "cell_type": "markdown",
   "metadata": {},
   "source": [
    "### 3. Data Analyze"
   ]
  },
  {
   "cell_type": "markdown",
   "metadata": {},
   "source": [
    "Import the base neighborhood data with Borough name, latitude and longitude."
   ]
  },
  {
   "cell_type": "markdown",
   "metadata": {},
   "source": [
    "<img src='Base Data.jpg'>"
   ]
  },
  {
   "cell_type": "markdown",
   "metadata": {},
   "source": [
    "Use Folium to draw all neighborhood in map with their latitude and longitude."
   ]
  },
  {
   "cell_type": "markdown",
   "metadata": {},
   "source": [
    "<img src='Base Folium Map.jpg'>"
   ]
  },
  {
   "cell_type": "markdown",
   "metadata": {},
   "source": [
    "In order to get venues data, we need to use Foursquare base on Neighborhood name, latitude and longitude. With the URL  established by Foursquare, we can get information of every venue in all neighborhoods. We only choose the name and category of venues."
   ]
  },
  {
   "cell_type": "markdown",
   "metadata": {},
   "source": [
    "<img src='Venues Data.jpg'>"
   ]
  },
  {
   "cell_type": "markdown",
   "metadata": {},
   "source": [
    "With all venues data in each neighborhood, we can find the first 10 most common venue in each neighborhood."
   ]
  },
  {
   "cell_type": "markdown",
   "metadata": {},
   "source": [
    "<img src='Most Common Venue.jpg'>"
   ]
  },
  {
   "cell_type": "markdown",
   "metadata": {},
   "source": [
    "### 4. Predictive Modeling"
   ]
  },
  {
   "cell_type": "markdown",
   "metadata": {},
   "source": [
    "We choose K-means Clustering Model to cluster all neighborhoods. K-means Modeling can use in neighborhood segmentation. With K-means Modeling, neighborhoods can be clustered to k partitions. Each cluster have most similar features and same label."
   ]
  },
  {
   "cell_type": "markdown",
   "metadata": {},
   "source": [
    "<img src='Cluster Labels.jpg'>"
   ]
  },
  {
   "cell_type": "markdown",
   "metadata": {},
   "source": [
    "With cluster labels with neighborhoods, we can use Folium to draw a clustered map of neighborhoods. Each color represents one cluster. There are 5 clusters since we choose k=5. If the resident has other requirements, we can change the value of k to get other results."
   ]
  },
  {
   "cell_type": "markdown",
   "metadata": {},
   "source": [
    "<img src='Labeled Folium Map.jpg'>"
   ]
  },
  {
   "cell_type": "markdown",
   "metadata": {},
   "source": [
    "### 5. Conclusions"
   ]
  },
  {
   "cell_type": "markdown",
   "metadata": {},
   "source": [
    "After data analyze and predictive modeling, we have the labeled map. When the resident plan to move, he should know his old neighborhood belongs to which cluster and to find other neighborhoods in the same cluster.  The same labeled neighborhood are those have most similar venues compare to the old neighborhood. "
   ]
  }
 ],
 "metadata": {
  "kernelspec": {
   "display_name": "Python 3",
   "language": "python",
   "name": "python3"
  },
  "language_info": {
   "codemirror_mode": {
    "name": "ipython",
    "version": 3
   },
   "file_extension": ".py",
   "mimetype": "text/x-python",
   "name": "python",
   "nbconvert_exporter": "python",
   "pygments_lexer": "ipython3",
   "version": "3.6.8"
  }
 },
 "nbformat": 4,
 "nbformat_minor": 2
}
