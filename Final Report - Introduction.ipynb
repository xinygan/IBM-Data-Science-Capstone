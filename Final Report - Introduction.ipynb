{
 "cells": [
  {
   "cell_type": "markdown",
   "metadata": {},
   "source": [
    "## Introduction"
   ]
  },
  {
   "cell_type": "markdown",
   "metadata": {},
   "source": [
    "When you buy a house, you aren’t just buying a house. In a way, you’re buying a neighborhood.\n",
    "\n",
    "This is a resident who is looking for houses or apartments in the boroughs of Toronto. This renter wants to find similar neighborhoods like the old one. This neighborhood may contain many places such as Grocery Store, Bank, Park, Shopping Mall, Restaurant, Pharmacy, Gym and School. \n",
    "\n",
    "People have various need for neighborhood. A single man may prefer gym or bar. A housewife may consider school and grocery. When a resident moving, he may want to move to a neighborhood most like his old one. \n",
    "\n",
    "This resident can assess new neighborhoods based on old neighborhood, and find those most close options to make final decision.\n"
   ]
  }
 ],
 "metadata": {
  "kernelspec": {
   "display_name": "Python 3",
   "language": "python",
   "name": "python3"
  },
  "language_info": {
   "codemirror_mode": {
    "name": "ipython",
    "version": 3
   },
   "file_extension": ".py",
   "mimetype": "text/x-python",
   "name": "python",
   "nbconvert_exporter": "python",
   "pygments_lexer": "ipython3",
   "version": "3.6.8"
  }
 },
 "nbformat": 4,
 "nbformat_minor": 2
}
