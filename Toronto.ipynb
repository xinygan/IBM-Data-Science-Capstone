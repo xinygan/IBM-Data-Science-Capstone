{
 "cells": [
  {
   "cell_type": "markdown",
   "metadata": {},
   "source": [
    "## Segmenting and Clustering Neighborhoods in Toronto"
   ]
  },
  {
   "cell_type": "code",
   "execution_count": 1,
   "metadata": {},
   "outputs": [],
   "source": [
    "import pandas as pd\n",
    "import requests\n",
    "from bs4 import BeautifulSoup\n",
    "\n",
    "url = requests.get(\"https://en.wikipedia.org/wiki/List_of_postal_codes_of_Canada:_M\").text\n",
    "soup = BeautifulSoup(url, 'lxml')\n",
    "table = soup.find('table', {'class': 'wikitable sortable'})"
   ]
  },
  {
   "cell_type": "code",
   "execution_count": 2,
   "metadata": {},
   "outputs": [],
   "source": [
    "# table"
   ]
  },
  {
   "cell_type": "code",
   "execution_count": 3,
   "metadata": {},
   "outputs": [],
   "source": [
    "PostalCode = list()\n",
    "Borough = list()\n",
    "Neighborhood = list()\n",
    "\n",
    "for tr in table.find_all('tr'):\n",
    "    cnt = 1\n",
    "    p, b, n = -1, -1, -1\n",
    "    \n",
    "    for td in tr.find_all('td'):\n",
    "        if cnt == 1:\n",
    "            p = td.text\n",
    "        if cnt == 2:\n",
    "            b = td.text\n",
    "            tag_b = td.find('a')\n",
    "        if cnt == 3:\n",
    "            n = str(td.text).strip()\n",
    "            tag_n = td.find('a')\n",
    "            \n",
    "        cnt += 1\n",
    "    \n",
    "    if p == 'Not assigned' or b == 'Not assigned' or n == 'Not assigned':\n",
    "        continue\n",
    "    if p == -1 or b == -1 or n == -1:\n",
    "        continue\n",
    "    try:\n",
    "        if (tag_b is None) or (tag_n is None):\n",
    "            continue\n",
    "    except:\n",
    "        pass\n",
    "        \n",
    "    PostalCode.append(p)\n",
    "    Borough.append(b)\n",
    "    Neighborhood.append(n)"
   ]
  },
  {
   "cell_type": "code",
   "execution_count": 4,
   "metadata": {},
   "outputs": [],
   "source": [
    "unique_PostalCode = set(PostalCode)\n",
    "PostalCode_u = list()\n",
    "Borough_u = list()\n",
    "Neighborhood_u = list()\n",
    "\n",
    "for u_postalcode in unique_PostalCode:\n",
    "    p, b, n = '', '', ''\n",
    "    for index, postalcode in enumerate(PostalCode):\n",
    "        if u_postalcode == postalcode:\n",
    "            p = postalcode\n",
    "            b = Borough[index]\n",
    "            if n == '':\n",
    "                n = Neighborhood[index]\n",
    "            else:\n",
    "                n = n + ', ' + Neighborhood[index]\n",
    "    PostalCode_u.append(p)\n",
    "    Borough_u.append(b)\n",
    "    Neighborhood_u.append(n)"
   ]
  },
  {
   "cell_type": "code",
   "execution_count": 5,
   "metadata": {},
   "outputs": [
    {
     "data": {
      "text/html": [
       "<div>\n",
       "<style scoped>\n",
       "    .dataframe tbody tr th:only-of-type {\n",
       "        vertical-align: middle;\n",
       "    }\n",
       "\n",
       "    .dataframe tbody tr th {\n",
       "        vertical-align: top;\n",
       "    }\n",
       "\n",
       "    .dataframe thead th {\n",
       "        text-align: right;\n",
       "    }\n",
       "</style>\n",
       "<table border=\"1\" class=\"dataframe\">\n",
       "  <thead>\n",
       "    <tr style=\"text-align: right;\">\n",
       "      <th></th>\n",
       "      <th>PostalCode</th>\n",
       "      <th>Borough</th>\n",
       "      <th>Neighbourhood</th>\n",
       "    </tr>\n",
       "  </thead>\n",
       "  <tbody>\n",
       "    <tr>\n",
       "      <th>0</th>\n",
       "      <td>M3L</td>\n",
       "      <td>North York</td>\n",
       "      <td>Downsview West</td>\n",
       "    </tr>\n",
       "    <tr>\n",
       "      <th>1</th>\n",
       "      <td>M6J</td>\n",
       "      <td>West Toronto</td>\n",
       "      <td>Little Portugal, Trinity</td>\n",
       "    </tr>\n",
       "    <tr>\n",
       "      <th>2</th>\n",
       "      <td>M6H</td>\n",
       "      <td>West Toronto</td>\n",
       "      <td>Dovercourt Village</td>\n",
       "    </tr>\n",
       "    <tr>\n",
       "      <th>3</th>\n",
       "      <td>M8V</td>\n",
       "      <td>Etobicoke</td>\n",
       "      <td>New Toronto</td>\n",
       "    </tr>\n",
       "    <tr>\n",
       "      <th>4</th>\n",
       "      <td>M8W</td>\n",
       "      <td>Etobicoke</td>\n",
       "      <td>Alderwood, Long Branch</td>\n",
       "    </tr>\n",
       "    <tr>\n",
       "      <th>5</th>\n",
       "      <td>M3J</td>\n",
       "      <td>North York</td>\n",
       "      <td>Northwood Park, York University</td>\n",
       "    </tr>\n",
       "    <tr>\n",
       "      <th>6</th>\n",
       "      <td>M4H</td>\n",
       "      <td>East York</td>\n",
       "      <td>Thorncliffe Park</td>\n",
       "    </tr>\n",
       "    <tr>\n",
       "      <th>7</th>\n",
       "      <td>M5K</td>\n",
       "      <td>Downtown Toronto</td>\n",
       "      <td>Design Exchange, Toronto Dominion Centre</td>\n",
       "    </tr>\n",
       "    <tr>\n",
       "      <th>8</th>\n",
       "      <td>M4Y</td>\n",
       "      <td>Downtown Toronto</td>\n",
       "      <td>Church and Wellesley</td>\n",
       "    </tr>\n",
       "    <tr>\n",
       "      <th>9</th>\n",
       "      <td>M2R</td>\n",
       "      <td>North York</td>\n",
       "      <td>Willowdale West</td>\n",
       "    </tr>\n",
       "    <tr>\n",
       "      <th>10</th>\n",
       "      <td>M1C</td>\n",
       "      <td>Scarborough</td>\n",
       "      <td>Highland Creek, Rouge Hill, Port Union</td>\n",
       "    </tr>\n",
       "    <tr>\n",
       "      <th>11</th>\n",
       "      <td>M1R</td>\n",
       "      <td>Scarborough</td>\n",
       "      <td>Maryvale, Wexford</td>\n",
       "    </tr>\n",
       "  </tbody>\n",
       "</table>\n",
       "</div>"
      ],
      "text/plain": [
       "   PostalCode           Borough                             Neighbourhood\n",
       "0         M3L        North York                            Downsview West\n",
       "1         M6J      West Toronto                  Little Portugal, Trinity\n",
       "2         M6H      West Toronto                        Dovercourt Village\n",
       "3         M8V         Etobicoke                               New Toronto\n",
       "4         M8W         Etobicoke                    Alderwood, Long Branch\n",
       "5         M3J        North York           Northwood Park, York University\n",
       "6         M4H         East York                          Thorncliffe Park\n",
       "7         M5K  Downtown Toronto  Design Exchange, Toronto Dominion Centre\n",
       "8         M4Y  Downtown Toronto                      Church and Wellesley\n",
       "9         M2R        North York                           Willowdale West\n",
       "10        M1C       Scarborough    Highland Creek, Rouge Hill, Port Union\n",
       "11        M1R       Scarborough                         Maryvale, Wexford"
      ]
     },
     "execution_count": 5,
     "metadata": {},
     "output_type": "execute_result"
    }
   ],
   "source": [
    "toronto_dict = {'PostalCode':PostalCode_u, 'Borough':Borough_u, 'Neighbourhood':Neighborhood_u}\n",
    "df = pd.DataFrame.from_dict(toronto_dict)\n",
    "df.head(12)"
   ]
  },
  {
   "cell_type": "code",
   "execution_count": 6,
   "metadata": {},
   "outputs": [
    {
     "data": {
      "text/plain": [
       "(77, 3)"
      ]
     },
     "execution_count": 6,
     "metadata": {},
     "output_type": "execute_result"
    }
   ],
   "source": [
    "df.shape"
   ]
  },
  {
   "cell_type": "code",
   "execution_count": null,
   "metadata": {},
   "outputs": [],
   "source": []
  }
 ],
 "metadata": {
  "kernelspec": {
   "display_name": "Python 3",
   "language": "python",
   "name": "python3"
  },
  "language_info": {
   "codemirror_mode": {
    "name": "ipython",
    "version": 3
   },
   "file_extension": ".py",
   "mimetype": "text/x-python",
   "name": "python",
   "nbconvert_exporter": "python",
   "pygments_lexer": "ipython3",
   "version": "3.6.8"
  }
 },
 "nbformat": 4,
 "nbformat_minor": 2
}
